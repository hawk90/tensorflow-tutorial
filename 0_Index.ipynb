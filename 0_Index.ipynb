{
 "cells": [
  {
   "cell_type": "markdown",
   "metadata": {},
   "source": [
    "### TensorFlow Study\n",
    "- 참석자 : 윤상덕, 안휘항, 김길현, 한진용, (김성곤)\n",
    "- 공부 방법 : 미정\n",
    "- 일정 : 미정\n",
    "- 목표 : 자기의 코드를 짤 수 있을 만큼"
   ]
  },
  {
   "cell_type": "markdown",
   "metadata": {},
   "source": [
    "### Environment\n",
    "- Python Version : python 3.5\n",
    "- TensorFlow Version : Tensorflow-gpu 1.2.0\n",
    "- GPU : Geforce GTX 1070 * 2"
   ]
  },
  {
   "cell_type": "markdown",
   "metadata": {},
   "source": [
    "### Agenda\n",
    "\n",
    "1. [Python Basic](1_Python/00_python_index.ipynb) (Python Language, Pandas, Numpy, Matplotlib)\n",
    "\n",
    "2. Jupyter Notebook Basic (Jupyter Notebook Interface, Markdown, Magic Shell)\n",
    "\n",
    "3. TensorFlow Framework(System Architecture)\n",
    "\n",
    "4. Examples (TensorFlow Example, Models)\n",
    "\n",
    "5. Functions(Freqeuntly, Topic)\n",
    " \n",
    "6. Advanced Python\n",
    "\n",
    "6. Custom Code"
   ]
  },
  {
   "cell_type": "code",
   "execution_count": null,
   "metadata": {
    "collapsed": true
   },
   "outputs": [],
   "source": []
  }
 ],
 "metadata": {
  "kernelspec": {
   "display_name": "Python 3",
   "language": "python",
   "name": "python3"
  },
  "language_info": {
   "codemirror_mode": {
    "name": "ipython",
    "version": 3
   },
   "file_extension": ".py",
   "mimetype": "text/x-python",
   "name": "python",
   "nbconvert_exporter": "python",
   "pygments_lexer": "ipython3",
   "version": "3.5.2"
  }
 },
 "nbformat": 4,
 "nbformat_minor": 2
}
