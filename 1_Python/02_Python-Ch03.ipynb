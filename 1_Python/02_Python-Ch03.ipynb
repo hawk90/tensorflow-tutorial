{
 "cells": [
  {
   "cell_type": "markdown",
   "metadata": {},
   "source": [
    "# Chapter 3. 파이 채우기: 리스트, 튜플, 딕셔너리, 셋\n",
    "- [리스트와 튜플](#3.1)\n",
    "- [리스트](#3.2)\n",
    "    - [리스트 생성하기: []또는 list()](#3.2.1)\n",
    "    - [다른 데이터 타입을 리스트로 변환하기: list()](#3.2.2)\n",
    "    - [[offset]으로 항목 얻기](#3.2.3)\n",
    "    - [리스트의 리스트](#3.2.4)\n",
    "    - [[offset]으로 항목 바꾸기](#3.2.5)\n",
    "    - [슬라이스로 항목 추출하기](#3.2.6)\n",
    "    - [리스트의 끝에 항목 추가하기: append()](#3.2.7)\n",
    "    - [리스트 병합하기: extend() 또는 +=](#3.2.8)\n",
    "    - [오프셋과 insert()로 항목 추가하기](#3.2.9)\n",
    "    - [오프셋으로 항목 삭제하기: del](#3.2.10)\n",
    "    - [값으로 항목삭제하기: remove()](#3.2.11)\n",
    "    - [오프셋으로 항목을 얻은 후 삭제하기: pop()](#3.2.12)\n",
    "    - [값으로 항목 오프셋 찾기: index()](#3.2.13)\n",
    "    - [존재여부 확인 하기: in](#3.2.14)\n",
    "    - [값 세기: count()](#3.2.15)\n",
    "    - [문자열로 변환하기: join()](#3.2.16)\n",
    "    - [정렬하기: sort()](#3.2.17)\n",
    "    - [항목 개수 얻기: len()](#3.2.18)\n",
    "    - [할당: =, 복사: copy()](#3.2.19)\n",
    "- [튜플](#3.3)\n",
    "    - [튜플 생성하기: ()](#3.3.1)\n",
    "    - [튜플과 리스트](#3.3.2)\n",
    "- [딕셔너리](#3.4)\n",
    "    - [딕셔너리 생성하기: []](#3.4.1)\n",
    "    - [딕셔너리로 변환하기: dict()](#3.4.2)\n",
    "    - [항목 추가/변경하기: [key]](#3.4.3)\n",
    "    - [딕셔너리 결함하기: update()](#3.4.4)\n",
    "    - [키와 del로 항목 삭제하기](#3.4.5)\n",
    "    - [모든 항목 삭제하기: clear()](#3.4.6)\n",
    "    - [in으로 키 멤버십 테스트하기](#3.4.7)\n",
    "    - [항목 얻디: [key]](#3.4.8)\n",
    "    - [모든 키 얻기: keys()](#3.4.9)\n",
    "    - [모든 값 얻기: values()](#3.4.10)\n",
    "    - [모든 쌍의 키-값 얻기: items()](#3.4.11)\n",
    "    - [할당: =, 복사: copy()](#3.4.12)\n",
    "- [셋](#3.5)\n",
    "    - [셋 생성하기: set()](#3.5.1)\n",
    "    - [데이터 타입 변환하기: set()](#3.5.2)\n",
    "    - [in으로 값 멤버십 테스트하기](#3.5.3)\n",
    "    - [콤비네이션과 연산자](#3.5.4)\n",
    "- [자료구조 비교하기](#3.6)\n",
    "- [자료구조를 더 크게](#3.7)"
   ]
  },
  {
   "cell_type": "markdown",
   "metadata": {
    "collapsed": true
   },
   "source": [
    "### 3.1 리스트와 튜플 <a id='3.1'></a>\n",
    "\n"
   ]
  },
  {
   "cell_type": "markdown",
   "metadata": {
    "collapsed": true
   },
   "source": [
    "### 3.2 리스트 <a id='3.2'></a>\n"
   ]
  },
  {
   "cell_type": "markdown",
   "metadata": {
    "collapsed": true
   },
   "source": [
    "### 3.2.1 리스트 생성하기: []또는 list() <a id='3.2.1'></a>"
   ]
  },
  {
   "cell_type": "markdown",
   "metadata": {
    "collapsed": true
   },
   "source": [
    "### 3.2.2 다른 데이터 타입을 리스트로 변환하기: list() <a id='3.2.2'></a>"
   ]
  },
  {
   "cell_type": "markdown",
   "metadata": {
    "collapsed": true
   },
   "source": [
    "### 3.2.3 [offset]으로 항목 얻기 <a id='3.2,3'></a>"
   ]
  },
  {
   "cell_type": "markdown",
   "metadata": {
    "collapsed": true
   },
   "source": [
    "### 3.2.4 리스트와 리스트 <a id='3.2.4'></a>"
   ]
  },
  {
   "cell_type": "markdown",
   "metadata": {
    "collapsed": true
   },
   "source": [
    "### 3.2.5 [offset]으로 항목 바꾸기 <a id='3.2.5'></a>"
   ]
  },
  {
   "cell_type": "markdown",
   "metadata": {
    "collapsed": true
   },
   "source": [
    "### 3.2.6 슬라이스로 항목 추출하기 <a id='3.2.6'></a>"
   ]
  },
  {
   "cell_type": "markdown",
   "metadata": {
    "collapsed": true
   },
   "source": [
    "### 3.2.7 리스트의 끝에 항목 추가하기: append() <a id='3.2.7'></a>"
   ]
  },
  {
   "cell_type": "markdown",
   "metadata": {
    "collapsed": true
   },
   "source": [
    "### 3.2.8 리스트 병합하기: extend() 또는 += <a id='3.2.8'></a>"
   ]
  },
  {
   "cell_type": "markdown",
   "metadata": {
    "collapsed": true
   },
   "source": [
    "### 3.2.9 오프셋과 insert()로 항목 추가하기 <a id='3.2.9'></a>"
   ]
  },
  {
   "cell_type": "markdown",
   "metadata": {
    "collapsed": true
   },
   "source": [
    "### 3.2.10 오프셋으로 항목 삭제하기: del <a id='3.2.10'></a>"
   ]
  },
  {
   "cell_type": "markdown",
   "metadata": {
    "collapsed": true
   },
   "source": [
    "### 3.2.11 값으로 항목 삭제하기: remove() <a id='3.2.11'></a>"
   ]
  },
  {
   "cell_type": "markdown",
   "metadata": {
    "collapsed": true
   },
   "source": [
    "### 3.2.12 오프셋으로 항목을 얻은 후 삭제하기: pop() <a id='3.2.12'></a>"
   ]
  },
  {
   "cell_type": "markdown",
   "metadata": {
    "collapsed": true
   },
   "source": [
    "### 3.2.13 값으로 항목 오프셋 찾기: index() <a id='3.2.13'></a>"
   ]
  },
  {
   "cell_type": "markdown",
   "metadata": {
    "collapsed": true
   },
   "source": [
    "### 3.2.14 존재여부 확인하기: in  <a id='3.2.14'></a>"
   ]
  },
  {
   "cell_type": "markdown",
   "metadata": {
    "collapsed": true
   },
   "source": [
    "### 3.2.15 값 세기: count() <a id='3.2.15'></a>"
   ]
  },
  {
   "cell_type": "markdown",
   "metadata": {
    "collapsed": true
   },
   "source": [
    "### 3.2.16 문자열로 변환하기: join() <a id='3.2.16'></a>"
   ]
  },
  {
   "cell_type": "markdown",
   "metadata": {
    "collapsed": true
   },
   "source": [
    "### 3.2.17 정렬하기: sort() <a id='3.2.17'></a>"
   ]
  },
  {
   "cell_type": "markdown",
   "metadata": {
    "collapsed": true
   },
   "source": [
    "### 3.2.18 항목 개수 얻기: len() <a id='3.2.18'></a>"
   ]
  },
  {
   "cell_type": "markdown",
   "metadata": {
    "collapsed": true
   },
   "source": [
    "### 3.2.19 할당: =, 복사: copy() <a id='3.2.19'></a>"
   ]
  },
  {
   "cell_type": "markdown",
   "metadata": {
    "collapsed": true
   },
   "source": [
    "### 3.3 튜플 <a id='3.3'></a>"
   ]
  },
  {
   "cell_type": "markdown",
   "metadata": {
    "collapsed": true
   },
   "source": [
    "### 3.3.1 튜플 생성하기: () <a id='3.3.1'></a>"
   ]
  },
  {
   "cell_type": "markdown",
   "metadata": {
    "collapsed": true
   },
   "source": [
    "### 3.3.2 튜플과 리스트 <a id='3.3.2'></a>"
   ]
  },
  {
   "cell_type": "markdown",
   "metadata": {
    "collapsed": true
   },
   "source": [
    "### 3.4 딕셔너리 <a id='3.4'></a>"
   ]
  },
  {
   "cell_type": "markdown",
   "metadata": {
    "collapsed": true
   },
   "source": [
    "### 3.4.1 딕셔너리 생성하기: [] <a id='3.4.1'></a>"
   ]
  },
  {
   "cell_type": "markdown",
   "metadata": {
    "collapsed": true
   },
   "source": [
    "### 3.4.2 딕셔너리로 변환하기: dict() <a id='3.4.2'></a>"
   ]
  },
  {
   "cell_type": "markdown",
   "metadata": {
    "collapsed": true
   },
   "source": [
    "### 3.4.3 항목 추가/변경하기: [key] <a id='3.4.3'></a>"
   ]
  },
  {
   "cell_type": "markdown",
   "metadata": {
    "collapsed": true
   },
   "source": [
    "### 3.4.4 딕셔너리 결합하기: update() <a id='3.4.4'></a>"
   ]
  },
  {
   "cell_type": "markdown",
   "metadata": {
    "collapsed": true
   },
   "source": [
    "### 3.4.5 키와 del로 항목 삭제하기 <a id='3.4.5'></a>"
   ]
  },
  {
   "cell_type": "markdown",
   "metadata": {
    "collapsed": true
   },
   "source": [
    "### 3.4.6 모든 항목 삭제하기: clear() <a id='3.4.6'></a>"
   ]
  },
  {
   "cell_type": "markdown",
   "metadata": {
    "collapsed": true
   },
   "source": [
    "### 3.4.7 in으로 키 멤버십 테스트하기 <a id='3.4.7'></a>"
   ]
  },
  {
   "cell_type": "markdown",
   "metadata": {
    "collapsed": true
   },
   "source": [
    "### 3.4.8 항목 얻기: [key] <a id='3.4.8'></a>"
   ]
  },
  {
   "cell_type": "markdown",
   "metadata": {
    "collapsed": true
   },
   "source": [
    "### 3.4.9 모든 키 얻기: keys() <a id='3.4.9'></a>"
   ]
  },
  {
   "cell_type": "markdown",
   "metadata": {
    "collapsed": true
   },
   "source": [
    "### 3.4.10 모든 값 얻기: values() <a id='3.4.10'></a>"
   ]
  },
  {
   "cell_type": "markdown",
   "metadata": {
    "collapsed": true
   },
   "source": [
    "### 3.4.11 모든 쌍의 키-값 얻기: items() <a id='3.4.11'></a>"
   ]
  },
  {
   "cell_type": "markdown",
   "metadata": {
    "collapsed": true
   },
   "source": [
    "### 3.4.12 할당: =, 복사: copy() <a id='3.4.12'></a>"
   ]
  },
  {
   "cell_type": "markdown",
   "metadata": {
    "collapsed": true
   },
   "source": [
    "### 3.5 셋 <a id='3.5'></a>"
   ]
  },
  {
   "cell_type": "markdown",
   "metadata": {
    "collapsed": true
   },
   "source": [
    "### 3.5.1 셋 생성하기: set() <a id='3.5.1'></a>"
   ]
  },
  {
   "cell_type": "markdown",
   "metadata": {
    "collapsed": true
   },
   "source": [
    "### 3.5.2 데이터 타입 변환하기: set() <a id='3.5.2'></a>"
   ]
  },
  {
   "cell_type": "markdown",
   "metadata": {
    "collapsed": true
   },
   "source": [
    "### 3.5.3 in으로 값 멤버십 테스트하기 <a id='3.5.3'></a>"
   ]
  },
  {
   "cell_type": "markdown",
   "metadata": {
    "collapsed": true
   },
   "source": [
    "### 3.5.4 콤비네이션과 연산자 <a id='3.5.4'></a>"
   ]
  },
  {
   "cell_type": "markdown",
   "metadata": {
    "collapsed": true
   },
   "source": [
    "### 3.6 자료구조 비교하기 <a id='3.6'></a>"
   ]
  },
  {
   "cell_type": "markdown",
   "metadata": {
    "collapsed": true
   },
   "source": [
    "### 3.7 자료구조를 더 크게 <a id='3.7'></a>"
   ]
  }
 ],
 "metadata": {
  "kernelspec": {
   "display_name": "Python 3",
   "language": "python",
   "name": "python3"
  },
  "language_info": {
   "codemirror_mode": {
    "name": "ipython",
    "version": 3
   },
   "file_extension": ".py",
   "mimetype": "text/x-python",
   "name": "python",
   "nbconvert_exporter": "python",
   "pygments_lexer": "ipython3",
   "version": "3.6.2"
  }
 },
 "nbformat": 4,
 "nbformat_minor": 2
}
