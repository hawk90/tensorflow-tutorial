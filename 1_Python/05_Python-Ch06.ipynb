{
 "cells": [
  {
   "cell_type": "markdown",
   "metadata": {},
   "source": [
    "# Chapter 6. 객체와 클래스\n",
    "- [객체란 무엇인가?](#)\n",
    "- [클래스 선언하기: class](#)\n",
    "- [상속](#)\n",
    "- [메서드 오버라이드](#)\n",
    "- [메서드 추가하기](#)\n",
    "- [부모에게 도움 받기: super](#)\n",
    "- [자신: self](#)\n",
    "- [get/set 속성값과 프로퍼티](#)\n",
    "- [private 네임 맹글링](#)\n",
    "- [메서드 타입](#)\n",
    "- [덕 타이핑](#)\n",
    "- [특수 메서드](#)\n",
    "- [컴포지션](#)\n",
    "- [클래스와 객체, 그리고 모듈은 언제 사용할까?](#)\n",
    "    - [네임드 튜플](#)"
   ]
  }
 ],
 "metadata": {
  "kernelspec": {
   "display_name": "Python 3",
   "language": "python",
   "name": "python3"
  },
  "language_info": {
   "codemirror_mode": {
    "name": "ipython",
    "version": 3
   },
   "file_extension": ".py",
   "mimetype": "text/x-python",
   "name": "python",
   "nbconvert_exporter": "python",
   "pygments_lexer": "ipython3",
   "version": "3.6.2"
  }
 },
 "nbformat": 4,
 "nbformat_minor": 2
}
