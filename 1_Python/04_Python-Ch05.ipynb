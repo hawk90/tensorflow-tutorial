{
 "cells": [
  {
   "cell_type": "markdown",
   "metadata": {},
   "source": [
    "# Chapter 5. 파이 포장하기: 모듈, 패키지, 프로그램\n",
    "- [스탠드얼론 프로그램](#)\n",
    "- [커맨드 라인 인자](#)\n",
    "- [모듈과 import문](#)\n",
    "    - [모듈 임포트하기](#)\n",
    "    - [다른 이름으로 모듈 임포트하기](#)\n",
    "    - [필요한 모듈만 임포트하기](#)\n",
    "    - [모듈 검색 경로](#)\n",
    "- [패키지](#)\n",
    "- [파이썬 표준 라이브러리](#)\n",
    "    - [누락된 키 처리하기: setdefault(), defaultdic()](#)\n",
    "    - [항목 세기: Counter()](#)\n",
    "    - [키 정렬하기: OrderedDict()](#)\n",
    "    - [스택+큐==데크](#)\n",
    "    - [코드 구조 순회하기: itertools](#)\n",
    "    - [깔금하게 출력하기: pprint()](#)\n",
    "- [배터리 장착: 다른 파이썬 코드 가져오기](#)"
   ]
  }
 ],
 "metadata": {
  "kernelspec": {
   "display_name": "Python 3",
   "language": "python",
   "name": "python3"
  },
  "language_info": {
   "codemirror_mode": {
    "name": "ipython",
    "version": 3
   },
   "file_extension": ".py",
   "mimetype": "text/x-python",
   "name": "python",
   "nbconvert_exporter": "python",
   "pygments_lexer": "ipython3",
   "version": "3.6.2"
  }
 },
 "nbformat": 4,
 "nbformat_minor": 2
}
