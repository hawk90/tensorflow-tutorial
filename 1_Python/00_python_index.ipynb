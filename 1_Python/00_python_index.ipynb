{
 "cells": [
  {
   "cell_type": "markdown",
   "metadata": {},
   "source": [
    "# Python Language\n",
    "![](../images/python/book_cover.jpg)\n",
    "\n",
    "\n",
    "<div>\n",
    "    <img src=\"../images/python/book_cover.jpg\" >\n",
    "</div>\n",
    "\n",
    "Book: Introducing Python\n",
    "- Chapter 1. 파이(Py) 맛보기\n",
    "- [Chapter 2. 파이 재료: 숫자, 문자열, 변수](01_Python-Ch02.ipynb)\n",
    "- [Chapter 3. 파이 채우기: 리스트, 튜플, 딕셔너리, 셋](02_Python-Ch03.ipynb)\n",
    "- [Chapter 4. 파이 크러스트: 코드 구조](03_Python-Ch04.ipynb)\n",
    "- [Chapter 5. 파이 포장하기: 모듈, 패키지, 프로그램](04_Python-Ch05.ipynb)\n",
    "- [Chapter 6. 객체와 클래스](05_Python-Ch06.ipynb)\n",
    "- [Chapter 7. 데이터 주무르기](06_Python-Ch07.ipynb)\n",
    "- [Chapter 8. 흘러가는 데이터](07_Python-Ch08.ipynb)\n",
    "- Chapter 9. 웹\n",
    "- [Chapter 10. 시스템](08_Python-Ch10.ipynb)\n",
    "- [Chapter 11. 병행성과 네트워크](09_Python-Ch11.ipynb)\n",
    "- Chapter 12. 파이 환경 설정 및 도구: 파이써니스타 되기"
   ]
  },
  {
   "cell_type": "markdown",
   "metadata": {},
   "source": [
    "# Pandas"
   ]
  },
  {
   "cell_type": "markdown",
   "metadata": {},
   "source": [
    "# Numpy"
   ]
  },
  {
   "cell_type": "markdown",
   "metadata": {},
   "source": [
    "# Matplotlib"
   ]
  }
 ],
 "metadata": {
  "kernelspec": {
   "display_name": "Python 3",
   "language": "python",
   "name": "python3"
  },
  "language_info": {
   "codemirror_mode": {
    "name": "ipython",
    "version": 3
   },
   "file_extension": ".py",
   "mimetype": "text/x-python",
   "name": "python",
   "nbconvert_exporter": "python",
   "pygments_lexer": "ipython3",
   "version": "3.6.2"
  }
 },
 "nbformat": 4,
 "nbformat_minor": 2
}
