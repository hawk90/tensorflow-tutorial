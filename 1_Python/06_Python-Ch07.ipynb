{
 "cells": [
  {
   "cell_type": "markdown",
   "metadata": {},
   "source": [
    "# 데이터 주무리기\n",
    "- [텍스트 문자열](#)\n",
    "    - [유니코드](#)\n",
    "    - [포맷](#)\n",
    "    - [정규표현식](#)\n",
    "- [이진 데이터](#)\n",
    "    - [바이트와 바이트 배열](#)\n",
    "    - [이진 데이터 변환하기: struct](#)\n",
    "    - [기타 이진 데이터 도구](#)\n",
    "    - [바이트/문자열 변환하기: binascii()](#)\n",
    "    - [비트 연산자](#)"
   ]
  }
 ],
 "metadata": {
  "kernelspec": {
   "display_name": "Python 3",
   "language": "python",
   "name": "python3"
  },
  "language_info": {
   "codemirror_mode": {
    "name": "ipython",
    "version": 3
   },
   "file_extension": ".py",
   "mimetype": "text/x-python",
   "name": "python",
   "nbconvert_exporter": "python",
   "pygments_lexer": "ipython3",
   "version": "3.6.2"
  }
 },
 "nbformat": 4,
 "nbformat_minor": 2
}
