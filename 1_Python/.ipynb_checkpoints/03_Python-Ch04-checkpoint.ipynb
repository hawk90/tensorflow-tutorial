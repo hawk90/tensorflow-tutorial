{
 "cells": [
  {
   "cell_type": "markdown",
   "metadata": {},
   "source": [
    "# Chapter 4. 파이 크러스트: 코드 구조\n",
    "- [코멘트 달기: #](#)\n",
    "- [라인 유지하기: \\](#)\n",
    "- [비교하기: if, elif, else](#)\n",
    "    - [True와 False](#)\n",
    "- [반복하기: while](#)\n",
    "    - [중단하기: break](#)\n",
    "    - [건너뛰기: continue](#)\n",
    "    - [break 확인하기: else](#)\n",
    "- [순회하기: for](#)\n",
    "    - [중단하기: break](#)\n",
    "    - [건너뛰기: continue](#)\n",
    "    - [break 확인하기: else](#)\n",
    "    - [여러 시퀀스 순회하기: zip()](#)\n",
    "    - [숫자 시퀀스 생성하기: range()](#)\n",
    "    - [기타 이터레이터](#)\n",
    "- [컴프리헨션](#)\n",
    "    - [리스트 컴프리헨션](#)\n",
    "    - [딕셔너리 컴프리헨션](#)\n",
    "    - [셋 컴프리헨션](#)\n",
    "    - [제너레이터 컴프리헨션](#)\n",
    "- [함수](#)\n",
    "    - [위치 인자](#)\n",
    "    - [키워드 인자](#)\n",
    "    - [기본 매개변수값 지정하기](#)\n",
    "    - [위치 인자 모으기: *](#)\n",
    "    - [키워드 인자 모으기: **](#)\n",
    "    - [docstring](#)\n",
    "    - [일등 시민: 함수](#)\n",
    "    - [내부 함수](#)\n",
    "    - [클로져](#)\n",
    "    - [익명 함수: lamda()](#)\n",
    "- [제너레이터](#)\n",
    "- [데커레이터](#)\n",
    "- [네임스페이스와 스코프](#)\n",
    "    - [이름에 _와 __사용](#)\n",
    "- [에러 처리하기: try, except](#)\n",
    "- [예외 만들기](#)"
   ]
  },
  {
   "cell_type": "code",
   "execution_count": null,
   "metadata": {
    "collapsed": true
   },
   "outputs": [],
   "source": []
  }
 ],
 "metadata": {
  "kernelspec": {
   "display_name": "Python 3",
   "language": "python",
   "name": "python3"
  },
  "language_info": {
   "codemirror_mode": {
    "name": "ipython",
    "version": 3
   },
   "file_extension": ".py",
   "mimetype": "text/x-python",
   "name": "python",
   "nbconvert_exporter": "python",
   "pygments_lexer": "ipython3",
   "version": "3.6.2"
  }
 },
 "nbformat": 4,
 "nbformat_minor": 2
}
