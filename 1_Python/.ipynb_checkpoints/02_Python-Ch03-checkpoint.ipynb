{
 "cells": [
  {
   "cell_type": "markdown",
   "metadata": {},
   "source": [
    "# Chapter 3. 파이 채우기: 리스트, 튜플, 딕셔너리, 셋\n",
    "- [리스트와 튜플](#)\n",
    "- [리스트](#)\n",
    "    - [리스트 생성하기: []또는 list()](#)\n",
    "    - [다른 데이터 타입을 리스트로 변환하기: list()](#)\n",
    "    - [[offset]으로 항목 얻기](#)\n",
    "    - [리스트의 리스트](#)\n",
    "    - [[offset]으로 항목 바꾸기](#)\n",
    "    - [슬라이스로 항목 추출하기](#)\n",
    "    - [리스트의 끝에 항목 추가하기: append()](#)\n",
    "    - [리스트 병합하기: extend() 또는 +=](#)\n",
    "    - [오프셋과 insert()로 항목 추가하기](#)\n",
    "    - [오프셋으로 항목 삭제하기: del](#)\n",
    "    - [값으로 항목삭제하기: remove()](#)\n",
    "    - [오프셋으로 항목을 얻은 후 삭제하기: pop()](#)\n",
    "    - [값으로 항목 오프셋 찾기: index()](#)\n",
    "    - [존재여부 확인 하기: in](#)\n",
    "    - [값 세기: count()](#)\n",
    "    - [문자열로 변환하기: join()](#)\n",
    "    - [정렬하기: sort()](#)\n",
    "    - [항목 개수 얻기: len()](#)\n",
    "    - [할당: =, 복사: copy()](#)\n",
    "- [튜플](#)\n",
    "    - [튜플 생성하기: ()](#)\n",
    "    - [튜플과 리스트](#)\n",
    "- [딕셔너리](#)\n",
    "    - [딕셔너리 생성하기: []](#)\n",
    "    - [딕셔너리로 변환하기: dict()](#)\n",
    "    - [항목 추가/변경하기: [key]](#)\n",
    "    - [딕셔너리 결함하기: update()](#)\n",
    "    - [키와 del로 항목 삭제하기](#)\n",
    "    - [모든 항목 삭제하기: clear()](#)\n",
    "    - [in으로 키 멤버십 테스트하기](#)\n",
    "    - [항목 얻디: [key]](#)\n",
    "    - [모든 키 얻기: keys()](#)\n",
    "    - [모든 값 얻기: values()](#)\n",
    "    - [모든 쌍의 키-값 얻기: items()](#)\n",
    "    - [할당: =, 복사: copy()](#)\n",
    "- [셋](#)\n",
    "    - [셋 생성하기: set()](#)\n",
    "    - [데이터 타입 변환하기: set()](#)\n",
    "    - [in으로 값 멤버십 테스트하기](#)\n",
    "    - [콤비네이션과 연산자](#)\n",
    "- [자료구조 비교하기](#)\n",
    "- [자료구조를 더 크게](#)"
   ]
  },
  {
   "cell_type": "code",
   "execution_count": null,
   "metadata": {
    "collapsed": true
   },
   "outputs": [],
   "source": []
  }
 ],
 "metadata": {
  "kernelspec": {
   "display_name": "Python 3",
   "language": "python",
   "name": "python3"
  },
  "language_info": {
   "codemirror_mode": {
    "name": "ipython",
    "version": 3
   },
   "file_extension": ".py",
   "mimetype": "text/x-python",
   "name": "python",
   "nbconvert_exporter": "python",
   "pygments_lexer": "ipython3",
   "version": "3.6.2"
  }
 },
 "nbformat": 4,
 "nbformat_minor": 2
}
