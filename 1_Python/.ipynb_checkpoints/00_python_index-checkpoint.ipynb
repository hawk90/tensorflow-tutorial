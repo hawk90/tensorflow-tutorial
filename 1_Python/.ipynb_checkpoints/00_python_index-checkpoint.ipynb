{
 "cells": [
  {
   "cell_type": "markdown",
   "metadata": {},
   "source": [
    "# Python Language\n",
    "![](../images/python/book_cover.jpg)\n",
    "\n",
    "\n",
    "<div>\n",
    "    <img src=\"../images/python/book_cover.jpg\" >\n",
    "</div>\n",
    "\n",
    "Book: Introducing Python\n",
    "- Chapter 1. 파이(Py) 맛보기\n",
    "- [Chapter 2. 파이 재료: 숫자, 문자열, 변수](01_Python-CH02.ipynb)\n",
    "- Chapter 3. 파이 채우기: 리스트, 튜플, 딕셔너리, 셋\n",
    "- Chapter 4. 파이 크러스트: 코드 구조\n",
    "- Chapter 5. 파이 포장하기: 모듈, 패키지, 프로그램\n",
    "- Chapter 6. 객체와 클래스\n",
    "- Chapter 7. 데이터 주무르기\n",
    "- Chapter 8. 흘러가는 데이터\n",
    "- Chapter 9. 웹\n",
    "- Chapter 10. 시스템\n",
    "- Chapter 11. 병행성과 네트워크\n",
    "- Chapter 12. 파이 환경 설정 및 도구: 파이써니스타 되기"
   ]
  },
  {
   "cell_type": "markdown",
   "metadata": {},
   "source": [
    "# Pandas"
   ]
  },
  {
   "cell_type": "markdown",
   "metadata": {},
   "source": [
    "# Numpy"
   ]
  },
  {
   "cell_type": "markdown",
   "metadata": {},
   "source": [
    "# Matplotlib"
   ]
  }
 ],
 "metadata": {
  "kernelspec": {
   "display_name": "Python 3",
   "language": "python",
   "name": "python3"
  },
  "language_info": {
   "codemirror_mode": {
    "name": "ipython",
    "version": 3
   },
   "file_extension": ".py",
   "mimetype": "text/x-python",
   "name": "python",
   "nbconvert_exporter": "python",
   "pygments_lexer": "ipython3",
   "version": "3.5.2"
  }
 },
 "nbformat": 4,
 "nbformat_minor": 2
}
