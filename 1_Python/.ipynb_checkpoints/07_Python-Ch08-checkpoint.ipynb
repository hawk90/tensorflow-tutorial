{
 "cells": [
  {
   "cell_type": "markdown",
   "metadata": {},
   "source": [
    "# Chapter 8. 흘러가는 데이터\n",
    "- [파일 입출력](#)\n",
    "    - [텍스트 파일 쓰기: write()](#)\n",
    "    - [텍스트 파일 읽기: read(), readline(), readlines()](#)\n",
    "    - [이진 파일 쓰기: write()](#)\n",
    "    - [이진 파일 읽기: read()](#)\n",
    "    - [자동으로 파일 닫기: with](#)\n",
    "    - [파일 위치 찾기: seek()](#)\n",
    "- [구조화된 텍스트 파일](#)\n",
    "    - [CSV](#)\n",
    "    - [XML](#)\n",
    "    - [HTML](#)\n",
    "    - [JSON](#)\n",
    "    - [YAML](#)\n",
    "    - [보안 노트](#)\n",
    "    - [설정 파일](#)\n",
    "    - [기타 데이터 교환 방식](#)\n",
    "    - [직렬화하기: pickle](#)\n",
    "- [구조화된 이진 파일](#)\n",
    "    - [스프레드시트](#)\n",
    "    - [HDF5](#)\n",
    "- [관계형 데이터베이스](#)\n",
    "    - [SQL](#)\n",
    "    - [DB-API](#)\n",
    "    - [SQLite](#)\n",
    "    - [MySQL](#)\n",
    "    - [PostgreSQL](#)\n",
    "    - [SQLAlchemy](#)\n",
    "- [NoSQL 데이터 스토어](#)\n",
    "    - [dbm 형식](#)\n",
    "    - [Memcached](#)\n",
    "    - [Redis](#)\n",
    "    - [기타 NoSQL](#)\n",
    "- [풀텍스트 데이터베이스](#)"
   ]
  },
  {
   "cell_type": "code",
   "execution_count": null,
   "metadata": {
    "collapsed": true
   },
   "outputs": [],
   "source": []
  }
 ],
 "metadata": {
  "kernelspec": {
   "display_name": "Python 3",
   "language": "python",
   "name": "python3"
  },
  "language_info": {
   "codemirror_mode": {
    "name": "ipython",
    "version": 3
   },
   "file_extension": ".py",
   "mimetype": "text/x-python",
   "name": "python",
   "nbconvert_exporter": "python",
   "pygments_lexer": "ipython3",
   "version": "3.6.2"
  }
 },
 "nbformat": 4,
 "nbformat_minor": 2
}
