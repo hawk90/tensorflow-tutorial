{
 "cells": [
  {
   "cell_type": "markdown",
   "metadata": {},
   "source": [
    "# Chapter 10. 시스템\n",
    "- [파일](#)\n",
    "    - [생성하기: open()](#)\n",
    "    - [존재여부 확인하기: exists()](#)\n",
    "    - [타입 확인하기: isfile()](#)\n",
    "    - [복사하기: copy()](#)\n",
    "    - [이름 바꾸기: rename()](#)\n",
    "    - [연결하기: link(), symlink()](#)\n",
    "    - [퍼미션 바꾸기: chmod()](#)\n",
    "    - [오너십 바꾸기: chown()](#)\n",
    "    - [절대 경로 얻기: abspath()](#)\n",
    "    - [심벌릭 링크 경로 얻기: realpath()](#)\n",
    "    - [삭제하기: remove()](#)\n",
    "- [디렉터리](#)\n",
    "    - [생성하기: mkdir()](#)\n",
    "    - [삭제하기: rmdir()](#)\n",
    "    - [콘텐츠 나열하기: listdir()](#)\n",
    "    - [현재 디렉터리 바꾸기: chdir()](#)\n",
    "    - [일치하는 파일 나열하기: glob()](#)\n",
    "- [프로그램과 프로세스](#)\n",
    "    - [프로세스 생성하기(1): subprocess](#)\n",
    "    - [프로세스 생성하기(2): multiprocessing](#)\n",
    "    - [프로세스 죽이기: terminate()](#)\n",
    "- [달력과 시간](#)\n",
    "    - [datatime 모듈](#)\n",
    "    - [time 모듈](#)\n",
    "    - [날짜와 시간 읽고 쓰기](#)\n",
    "    - [대체 모듈](#)"
   ]
  },
  {
   "cell_type": "code",
   "execution_count": null,
   "metadata": {
    "collapsed": true
   },
   "outputs": [],
   "source": []
  }
 ],
 "metadata": {
  "kernelspec": {
   "display_name": "Python 3",
   "language": "python",
   "name": "python3"
  },
  "language_info": {
   "codemirror_mode": {
    "name": "ipython",
    "version": 3
   },
   "file_extension": ".py",
   "mimetype": "text/x-python",
   "name": "python",
   "nbconvert_exporter": "python",
   "pygments_lexer": "ipython3",
   "version": "3.6.2"
  }
 },
 "nbformat": 4,
 "nbformat_minor": 2
}
